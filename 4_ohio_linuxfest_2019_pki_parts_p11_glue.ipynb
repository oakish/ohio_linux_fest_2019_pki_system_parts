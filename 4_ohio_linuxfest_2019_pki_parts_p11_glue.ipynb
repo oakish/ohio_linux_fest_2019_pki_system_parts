{
 "cells": [
  {
   "cell_type": "markdown",
   "metadata": {},
   "source": [
    "# The P11 glue project"
   ]
  },
  {
   "cell_type": "markdown",
   "metadata": {},
   "source": [
    "The p11-glue project [https://p11-glue.github.io/p11-glue/]() is the next component we are going to look at. \n",
    "\n",
    "While being a bit more designed for the developers of desktop applications it has started to make integration between openssl and NSS much easier. Developed out of the freedesktop.org project, the important component p11-kit will be the focus of what we are talking about.\n",
    "\n",
    "First we can look at the package.\n",
    "\n",
    "```\n",
    "# rpm version\n",
    "rpm -q p11-kit --info\n",
    "```"
   ]
  },
  {
   "cell_type": "code",
   "execution_count": null,
   "metadata": {},
   "outputs": [],
   "source": [
    "%%bash\n",
    "dpkg-query -s p11-kit"
   ]
  },
  {
   "cell_type": "markdown",
   "metadata": {},
   "source": [
    "The p11-kit module allows us to integrate into our nssdb"
   ]
  },
  {
   "cell_type": "code",
   "execution_count": null,
   "metadata": {},
   "outputs": [],
   "source": [
    "%%bash\n",
    "modutil -dbdir nssdb -add \"P11 Kit module\" -libfile /usr/lib/x86_64-linux-gnu/libp11-kit.so.0 -force"
   ]
  },
  {
   "cell_type": "code",
   "execution_count": null,
   "metadata": {},
   "outputs": [],
   "source": [
    "%%bash\n",
    "modutil -dbdir nssdb -list"
   ]
  },
  {
   "cell_type": "markdown",
   "metadata": {},
   "source": [
    "## Some closing remarks"
   ]
  },
  {
   "cell_type": "markdown",
   "metadata": {},
   "source": [
    "We will cover more of what the p11-kit offers in further sections. "
   ]
  },
  {
   "cell_type": "code",
   "execution_count": null,
   "metadata": {},
   "outputs": [],
   "source": []
  }
 ],
 "metadata": {
  "kernelspec": {
   "display_name": "Python 3",
   "language": "python",
   "name": "python3"
  },
  "language_info": {
   "codemirror_mode": {
    "name": "ipython",
    "version": 3
   },
   "file_extension": ".py",
   "mimetype": "text/x-python",
   "name": "python",
   "nbconvert_exporter": "python",
   "pygments_lexer": "ipython3",
   "version": "3.7.3"
  }
 },
 "nbformat": 4,
 "nbformat_minor": 2
}
