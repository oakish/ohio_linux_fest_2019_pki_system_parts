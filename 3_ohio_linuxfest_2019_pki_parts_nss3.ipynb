{
 "cells": [
  {
   "cell_type": "markdown",
   "metadata": {},
   "source": [
    "# The Mozilla Network Security Service (NSS)"
   ]
  },
  {
   "cell_type": "markdown",
   "metadata": {},
   "source": [
    "Started in 1998 the Mozilla project was born out of Netscape. \n",
    "\n",
    "> Network Security Services (NSS) is a set of libraries designed to support cross-platform development of communications applications that support SSL, S/MIME, and other Internet security standards.\n",
    "\n",
    "Those interested in the history of NSS, it can be found here (https://www-archive.mozilla.org/projects/security/pki/nss/history)[]\n",
    "\n",
    "While NSS and OpenSSL can both accomplish the same task, they both provide some interesting ways to accomplish them. In some cases a distribution may leverage more of one method then the other, but as we will see in the later sections, this is all being unified into a common set of libraries. In some cases NSS may not be loaded with the base installation.\n",
    "\n",
    "The one primary difference between the two projects is that NSS uses a database for storing the certificates. Along with providing an API method to access certificate function. It is common to find it being used by many application in the Linux ecosystem, some directly, others via the system. "
   ]
  },
  {
   "cell_type": "markdown",
   "metadata": {},
   "source": [
    "## Basic structure"
   ]
  },
  {
   "cell_type": "markdown",
   "metadata": {},
   "source": [
    "Looking at the packaged version of the tools.\n",
    "\n",
    "```\n",
    "# rpm version\n",
    "rpm -q nss --info\n",
    "echo\n",
    "rpm -q nss-tools --info\n",
    "```"
   ]
  },
  {
   "cell_type": "code",
   "execution_count": null,
   "metadata": {},
   "outputs": [],
   "source": [
    "%%bash\n",
    "dpkg-query -s libnss3\n",
    "echo \n",
    "dpkg-query -s libnss3-tools"
   ]
  },
  {
   "cell_type": "markdown",
   "metadata": {},
   "source": [
    "The NSS system places the certificate storage and configuration into a directory, generally named nssdb. This is arbitrary, in the case of Firefox the default profile directory in `~/.mozilla/firefox/` is the database directory. \n",
    "\n",
    "This directory can be created anywhere on the system. For system level provision this is usally help in `/etc/` in Red Hat based systems it is located `/etc/pki/nssdb`, in debian based systems it is not always created from the base package, but creating it in the `/etc/pki/nssdb`  provides the same functionality.\n",
    "\n",
    "For our examples here, we will create a new arbitary folder."
   ]
  },
  {
   "cell_type": "code",
   "execution_count": null,
   "metadata": {},
   "outputs": [],
   "source": [
    "%%bash\n",
    "rm -rf nssdb\n",
    "mkdir nssdb"
   ]
  },
  {
   "cell_type": "markdown",
   "metadata": {},
   "source": [
    "Now we can generate a new instance of the nssdb with the `certutil` command."
   ]
  },
  {
   "cell_type": "code",
   "execution_count": null,
   "metadata": {},
   "outputs": [],
   "source": [
    "%%bash\n",
    "certutil -d nssdb -N --empty-password"
   ]
  },
  {
   "cell_type": "markdown",
   "metadata": {},
   "source": [
    "Looking inside we can see the structure created. \n",
    "\n",
    "_Note that our examples are using the BerkeleyDB version of the database structure, by using the `sql:` prefix to the database name (-d flag) it will provision it with SQLite._"
   ]
  },
  {
   "cell_type": "code",
   "execution_count": null,
   "metadata": {},
   "outputs": [],
   "source": [
    "%%bash\n",
    "ls -l nssdb"
   ]
  },
  {
   "cell_type": "markdown",
   "metadata": {},
   "source": [
    "## Working with certificates"
   ]
  },
  {
   "cell_type": "markdown",
   "metadata": {},
   "source": [
    "Now that we have a store for our certificates we can work with it. \n",
    "\n",
    "The NSS structure is more tightly coupled then the openssl structure. This provides many utilities rolled into single commands, but it does also make it more difficult to do the more simple inspection that we did with openssl. Much of the power in the NSS structure is that it can be used from both provision and consumption. We will dig a bit more into those parts in a later section. For now let us look at some simple use cases. \n",
    "\n",
    "Lets add the certificate for ohiolinux.org so we can show a couple of the same functions used by openssl in the NSS tool. "
   ]
  },
  {
   "cell_type": "code",
   "execution_count": null,
   "metadata": {},
   "outputs": [],
   "source": [
    "%%bash\n",
    "certutil -d nssdb -A -n \"ohiolinux\" -t \",,\" -i certificates/ohiolinux.crt\n",
    "certutil -d nssdb -L"
   ]
  },
  {
   "cell_type": "markdown",
   "metadata": {},
   "source": [
    "Then viewing the certificate."
   ]
  },
  {
   "cell_type": "code",
   "execution_count": null,
   "metadata": {},
   "outputs": [],
   "source": [
    "%%bash\n",
    "certutil -d nssdb -L -n \"ohiolinux\""
   ]
  },
  {
   "cell_type": "markdown",
   "metadata": {},
   "source": [
    "We can also see the certificate in ascii form."
   ]
  },
  {
   "cell_type": "code",
   "execution_count": null,
   "metadata": {},
   "outputs": [],
   "source": [
    "%%bash\n",
    "certutil -d nssdb -L -n \"ohiolinux\" -a"
   ]
  },
  {
   "cell_type": "markdown",
   "metadata": {},
   "source": [
    "Let us try to validate the certificate."
   ]
  },
  {
   "cell_type": "code",
   "execution_count": null,
   "metadata": {},
   "outputs": [],
   "source": [
    "%%bash\n",
    "certutil -d nssdb -V -n \"ohiolinux\" -u C -e -b 191101120000Z"
   ]
  },
  {
   "cell_type": "markdown",
   "metadata": {},
   "source": [
    "We need to have the chain cert added as well, we also have to set it to a trusted certificate by adding the \"T,,\" with the -t (trust) flag."
   ]
  },
  {
   "cell_type": "code",
   "execution_count": null,
   "metadata": {},
   "outputs": [],
   "source": [
    "%%bash\n",
    "certutil -d nssdb -A -n \"olchain\" -t \"T,,\" -i certificates/olchain.crt"
   ]
  },
  {
   "cell_type": "markdown",
   "metadata": {},
   "source": [
    "Checking it again."
   ]
  },
  {
   "cell_type": "code",
   "execution_count": null,
   "metadata": {},
   "outputs": [],
   "source": [
    "%%bash\n",
    "certutil -d nssdb -V -n \"ohiolinux\" -u C -e -b 191101120000Z"
   ]
  },
  {
   "cell_type": "markdown",
   "metadata": {},
   "source": [
    "NSS also has a module configuration that can be accessed using `modutil`, this will be important for using system level functions. For now we can see that the current nssdb does not have any additional modules associated to it."
   ]
  },
  {
   "cell_type": "code",
   "execution_count": null,
   "metadata": {},
   "outputs": [],
   "source": [
    "%%bash\n",
    "modutil -dbdir nssdb -list"
   ]
  },
  {
   "cell_type": "markdown",
   "metadata": {},
   "source": [
    "One important thing to note, that will come up again later, is the URI displayed in the module interface. "
   ]
  },
  {
   "cell_type": "markdown",
   "metadata": {},
   "source": [
    "## Some closing comments"
   ]
  },
  {
   "cell_type": "markdown",
   "metadata": {},
   "source": [
    "In this section we introduced the NSS utilties. While this section is a bit lean on content, we will be revisiting the NSS utilities later as it integrates with other features we are going to discuss. \n",
    "\n",
    "Conceptually the NSS utilities can be used for a great deal more. While we will primarily be using openssl in the examples, I will try and also show the NSS utility equivilent. "
   ]
  },
  {
   "cell_type": "code",
   "execution_count": null,
   "metadata": {},
   "outputs": [],
   "source": []
  }
 ],
 "metadata": {
  "kernelspec": {
   "display_name": "Python 3",
   "language": "python",
   "name": "python3"
  },
  "language_info": {
   "codemirror_mode": {
    "name": "ipython",
    "version": 3
   },
   "file_extension": ".py",
   "mimetype": "text/x-python",
   "name": "python",
   "nbconvert_exporter": "python",
   "pygments_lexer": "ipython3",
   "version": "3.7.3"
  }
 },
 "nbformat": 4,
 "nbformat_minor": 2
}
