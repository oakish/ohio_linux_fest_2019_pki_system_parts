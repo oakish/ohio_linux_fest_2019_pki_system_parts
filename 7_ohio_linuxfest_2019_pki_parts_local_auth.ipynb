{
 "cells": [
  {
   "cell_type": "markdown",
   "metadata": {},
   "source": [
    "# Setting up a simple authentication"
   ]
  },
  {
   "cell_type": "markdown",
   "metadata": {},
   "source": [
    "In this section we will set up a simple PAM configuration to allow certificate authentication for using the yubikey. \n",
    "\n",
    "_The trend currently is to start to use `sssd`, unfortunately not all distrobutions will offer the 2.x version of SSSD that allows for local certificate authentication (Debian buster provide 1.16 version). For that reason we will use the older (no longer maintained) project `pam_pkcs11`. I believe the use of `yubico-pam` module could also do similar functionality, but for our purposes we will use the `pam_pkcs11` module which I am more familiar with._\n",
    "\n",
    "In Debian the `/etc/pam_pkcs11/pam_pkcs11.conf` is not part of the default load, using the example file to create the configuration can be found `/usr/share/doc/libpam-pkcs11/examples/pam_pkcs11.conf.example.gz`. For our purposes we will look at the configuration I have prepared for this example.\n",
    "\n"
   ]
  },
  {
   "cell_type": "markdown",
   "metadata": {},
   "source": [
    "First let's make the user for testing."
   ]
  },
  {
   "cell_type": "code",
   "execution_count": 1,
   "metadata": {},
   "outputs": [
    {
     "name": "stdout",
     "output_type": "stream",
     "text": [
      "Adding user `randomsoul' ...\n",
      "Adding new group `randomsoul' (1001) ...\n",
      "Adding new user `randomsoul' (1001) with group `randomsoul' ...\n",
      "Creating home directory `/home/randomsoul' ...\n",
      "Copying files from `/etc/skel' ...\n"
     ]
    }
   ],
   "source": [
    "%%bash\n",
    "sudo adduser --gecos \"Rachel Andomsoul\" --disabled-password randomsoul"
   ]
  },
  {
   "cell_type": "markdown",
   "metadata": {},
   "source": [
    "Now we can set up the `pam_pkcs11.conf` file and select it for using the opensc section. \n",
    "\n",
    "Some important configuration details: \n",
    "\n",
    "```\n",
    "use_pkcs11_module = opensc;\n",
    "\n",
    "pkcs11_module opensc {\n",
    "  module = /usr/lib/x86_64-linux-gnu/opensc-pkcs11.so;\n",
    "  description = \"OpenSC PKCS#11 module\";\n",
    "  ca_dir = /etc/pam_pkcs11/cacerts;\n",
    "  crl_dir = /etc/pam_pkcs11/crls;\n",
    "  cert_policy = ca, signature;\n",
    "}\n",
    "\n",
    "use_mappers = generic, null;\n",
    "\n",
    "mapper generic {\n",
    "  debug = true;\n",
    "  module = internal;\n",
    "  ignorecase = false;\n",
    "  cert_item  = cn;\n",
    "  mapfile = file:///etc/pam_pkcs11/generic_mapping;\n",
    "  use_getpwent = false;\n",
    "}\n",
    "```\n",
    "\n",
    "The choice in using generic because of some issues found with cn and uid internal mappers not always working, likely it is something simple. However, the use of the generic mapping mechanism does transition well to the `sssd` local certificate method in which use of a regex style subject mapping to local user is use instead of the internal mapping mechanisms like cn and uid.\n",
    "\n",
    "The `/etc/pam_pkcs11/generic_mapping` file contains a line for the test user: \n",
    "\n",
    "```\n",
    "Rachel Andomsoul -> randomsoul\n",
    "```\n",
    "\n",
    "This configuration will use the openssl style certificates with hash reference to provide the authentication matching."
   ]
  },
  {
   "cell_type": "code",
   "execution_count": 2,
   "metadata": {},
   "outputs": [],
   "source": [
    "%%bash\n",
    "sudo cp certificates/ca-root.pem /etc/pam_pkcs11/cacerts\n",
    "sudo openssl rehash /etc/pam_pkcs11/cacerts"
   ]
  },
  {
   "cell_type": "code",
   "execution_count": 3,
   "metadata": {},
   "outputs": [
    {
     "name": "stdout",
     "output_type": "stream",
     "text": [
      "total 4\n",
      "-rw-r--r-- 1 root root 1411 Oct 29 14:01 ca-root.pem\n",
      "lrwxrwxrwx 1 root root   11 Oct 29 14:01 d5d10f00.0 -> ca-root.pem\n"
     ]
    }
   ],
   "source": [
    "%%bash\n",
    "ls -l /etc/pam_pkcs11/cacerts"
   ]
  },
  {
   "cell_type": "markdown",
   "metadata": {},
   "source": [
    "In the `/etc/pam.d/common-auth` file we will add the following: \n",
    "\n",
    "```\n",
    "auth  [success=ok ignore=ignore default=die]  pam_pkcs11.so wait_for_card\n",
    "```"
   ]
  },
  {
   "cell_type": "markdown",
   "metadata": {},
   "source": [
    "## Using NSS3 and pam_pkcs11"
   ]
  },
  {
   "cell_type": "markdown",
   "metadata": {},
   "source": []
  }
 ],
 "metadata": {
  "kernelspec": {
   "display_name": "Python 3",
   "language": "python",
   "name": "python3"
  },
  "language_info": {
   "codemirror_mode": {
    "name": "ipython",
    "version": 3
   },
   "file_extension": ".py",
   "mimetype": "text/x-python",
   "name": "python",
   "nbconvert_exporter": "python",
   "pygments_lexer": "ipython3",
   "version": "3.7.3"
  }
 },
 "nbformat": 4,
 "nbformat_minor": 2
}
