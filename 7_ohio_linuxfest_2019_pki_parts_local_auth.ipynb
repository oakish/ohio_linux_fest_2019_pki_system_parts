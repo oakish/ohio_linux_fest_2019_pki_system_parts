{
 "cells": [
  {
   "cell_type": "markdown",
   "metadata": {},
   "source": [
    "# Setting up a simple authentication"
   ]
  },
  {
   "cell_type": "markdown",
   "metadata": {},
   "source": [
    "In this section we will set up a simple PAM configuration to allow certificate authentication for using the yubikey. \n",
    "\n",
    "_The trend currently is to start to use `sssd`, unfortunately not all distrobutions will offer the 2.x version of SSSD that allows for local certificate authentication (Debian buster provide sssd 1.16 version). For that reason we will use the older (no longer maintained) project `pam_pkcs11`. I believe the use of `yubico-pam` module could also do similar functionality, but for our purposes we will use the `pam_pkcs11` module which I am more familiar with._\n",
    "\n",
    "In Debian the `/etc/pam_pkcs11/pam_pkcs11.conf` is not part of the default load, using the example file to create the configuration can be found `/usr/share/doc/libpam-pkcs11/examples/pam_pkcs11.conf.example.gz`. Debian has also built the libpam-pkcs11 module using OpenSSL, so this method will be using the openssl hash links to verify the certificates. "
   ]
  },
  {
   "cell_type": "markdown",
   "metadata": {},
   "source": [
    "First let's make the user for testing."
   ]
  },
  {
   "cell_type": "code",
   "execution_count": null,
   "metadata": {},
   "outputs": [],
   "source": [
    "%%bash\n",
    "sudo adduser --gecos \"Rachel Andomsoul\" --disabled-password randomsoul"
   ]
  },
  {
   "cell_type": "markdown",
   "metadata": {},
   "source": [
    "Now we can set up the `pam_pkcs11.conf` file and select it for using the opensc section. \n",
    "\n",
    "Some important configuration details: \n",
    "\n",
    "```\n",
    "use_pkcs11_module = opensc;\n",
    "\n",
    "pkcs11_module opensc {\n",
    "  module = /usr/lib/x86_64-linux-gnu/opensc-pkcs11.so;\n",
    "  description = \"OpenSC PKCS#11 module\";\n",
    "  ca_dir = /etc/pam_pkcs11/cacerts;\n",
    "  crl_dir = /etc/pam_pkcs11/crls;\n",
    "  cert_policy = ca, signature;\n",
    "}\n",
    "\n",
    "use_mappers = generic, null;\n",
    "\n",
    "mapper generic {\n",
    "  debug = true;\n",
    "  module = internal;\n",
    "  ignorecase = false;\n",
    "  cert_item  = cn;\n",
    "  mapfile = file:///etc/pam_pkcs11/generic_mapping;\n",
    "  use_getpwent = false;\n",
    "}\n",
    "```\n",
    "\n",
    "The choice in using generic because of some issues found with cn and uid internal mappers not always working, likely it is something simple. However, the use of the generic mapping mechanism does transition well to the `sssd` local certificate method in which use of a regex style subject mapping to local user is use instead of the internal mapping mechanisms like cn and uid.\n",
    "\n",
    "The `/etc/pam_pkcs11/generic_mapping` file contains a line for the test user: \n",
    "\n",
    "```\n",
    "Rachel Andomsoul -> randomsoul\n",
    "```\n",
    "\n",
    "This configuration will use the openssl style certificates with hash reference to provide the authentication matching."
   ]
  },
  {
   "cell_type": "markdown",
   "metadata": {},
   "source": [
    "We need to copy over the `ca-root.pem` file into the cacerts location designated in the file. We then need to run the openssl rehash function."
   ]
  },
  {
   "cell_type": "code",
   "execution_count": null,
   "metadata": {},
   "outputs": [],
   "source": [
    "%%bash\n",
    "sudo cp certificates/ca-root.pem /etc/pam_pkcs11/cacerts\n",
    "sudo openssl rehash /etc/pam_pkcs11/cacerts"
   ]
  },
  {
   "cell_type": "markdown",
   "metadata": {},
   "source": [
    "We should find that the root certificate and its hash link are available."
   ]
  },
  {
   "cell_type": "code",
   "execution_count": null,
   "metadata": {},
   "outputs": [],
   "source": [
    "%%bash\n",
    "ls -l /etc/pam_pkcs11/cacerts"
   ]
  },
  {
   "cell_type": "markdown",
   "metadata": {},
   "source": [
    "In the `/etc/pam.d/common-auth` file we will add the following: \n",
    "\n",
    "```\n",
    "auth  [success=ok default=2]                    pam_succeed_if.so user ingroup randomsoul\n",
    "auth  [success=done ignore=ignore default=die]  pam_pkcs11.so debug wait_for_card\n",
    "auth  [success=1 default=ignore]                pam_unix.so \n",
    "auth  requisite                                 pam_deny.so\n",
    "auth  required                                  pam_permit.so\n",
    "```\n",
    "\n",
    "_This PAM config is going to force our test user to only be allowed to use the pam_pkcs11 login, while all other users can use the regular passwords, that way we can test out our configuration._\n",
    "\n",
    "We can use the VM to show a demonstration of the card authenticating."
   ]
  },
  {
   "cell_type": "markdown",
   "metadata": {},
   "source": [
    "__DEMONSTRATE__"
   ]
  },
  {
   "cell_type": "markdown",
   "metadata": {},
   "source": [
    "Now we can show a failure to log in with smartcard by removing the cacerts."
   ]
  },
  {
   "cell_type": "code",
   "execution_count": null,
   "metadata": {},
   "outputs": [],
   "source": [
    "%%bash\n",
    "sudo rm -f /etc/pam_pkcs11/cacerts/*"
   ]
  },
  {
   "cell_type": "markdown",
   "metadata": {},
   "source": [
    "__DEMONSTATE__"
   ]
  },
  {
   "cell_type": "markdown",
   "metadata": {},
   "source": [
    "## A note on using NSS3 and pam_pkcs11"
   ]
  },
  {
   "cell_type": "markdown",
   "metadata": {},
   "source": [
    "In the case of using Red Hat the `pam_pkcs11` module is built with NSS3 instead of OpenSSL, for this reason the following configuration would be used instead. \n",
    "\n",
    "```\n",
    "sudo certutil -d /etc/pki/nssdb -A -n \"Root Identity Certificate\" -t \"C,C,C\" -i certificates/ca-root.pem\n",
    "sudo modutil -dbdir /etc/pki/nssdb -add \"OpenSC PKCS#11 Module\" -libfile /usr/lib64/pkcs11/opensc-pkcs11.so -force\n",
    "```"
   ]
  },
  {
   "cell_type": "markdown",
   "metadata": {},
   "source": [
    "In the `pam_pkcs11.conf` file to look change the following: \n",
    "\n",
    "```\n",
    "pkcs11_module opensc {\n",
    "  module = /usr/lib/x86_64-linux-gnu/opensc-pkcs11.so;\n",
    "  description = \"OpenSC PKCS#11 module\";\n",
    "  ca_dir = /etc/pam_pkcs11/cacerts;\n",
    "  crl_dir = /etc/pam_pkcs11/crls;\n",
    "  cert_policy = ca, signature;\n",
    "  # adding the nssdb \n",
    "  nss_dir = \"/etc/pki/nssdb\";\n",
    "}\n",
    "```\n",
    "\n",
    "The `generic_mapping` remains the same.\n",
    "\n",
    "Switching using the symobolic links."
   ]
  },
  {
   "cell_type": "markdown",
   "metadata": {},
   "source": []
  }
 ],
 "metadata": {
  "kernelspec": {
   "display_name": "Python 3",
   "language": "python",
   "name": "python3"
  },
  "language_info": {
   "codemirror_mode": {
    "name": "ipython",
    "version": 3
   },
   "file_extension": ".py",
   "mimetype": "text/x-python",
   "name": "python",
   "nbconvert_exporter": "python",
   "pygments_lexer": "ipython3",
   "version": "3.7.3"
  }
 },
 "nbformat": 4,
 "nbformat_minor": 2
}
