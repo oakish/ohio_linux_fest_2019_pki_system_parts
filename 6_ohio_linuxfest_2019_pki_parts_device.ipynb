{
 "cells": [
  {
   "cell_type": "markdown",
   "metadata": {},
   "source": [
    "# Looking at a PKCS 11 device"
   ]
  },
  {
   "cell_type": "markdown",
   "metadata": {},
   "source": [
    "In our example we will be looking at the Yubikey with Personal Identity Verification (PIV) mechanisms to see how we can set up a device that will allow for use of certificate authenitcation to a local system. We will be looking at the PIV method, since we are exploring the PKI components, I state this because Yubikey provides other methods. \n",
    "\n",
    "_Yubikey provides a PAM module and other configuration tools that abstract out what we will be doing in this section. For our purposes, to see the sausage made, we will be using the basic `opensc` tools and working directly with them. While this will be a bit more difficult, it will allow us to swap out the yubikey with any vendor supplied PIV style mechanism._\n",
    "\n",
    "__The yubikey I am using for this example has already been intitialized, the general initialization of the Yubikey is beyond the scope of this notebook, Yubico provides excellent tutorials and help for set up of its tools.__\n",
    "\n",
    "First lets look at the device itself."
   ]
  },
  {
   "cell_type": "code",
   "execution_count": null,
   "metadata": {},
   "outputs": [],
   "source": [
    "%%bash\n",
    "lsusb | grep Yubi"
   ]
  },
  {
   "cell_type": "markdown",
   "metadata": {},
   "source": [
    "The `pkcs11-tool` allows us to look at the device itself."
   ]
  },
  {
   "cell_type": "code",
   "execution_count": null,
   "metadata": {},
   "outputs": [],
   "source": [
    "%%bash\n",
    "pkcs11-tool -L"
   ]
  },
  {
   "cell_type": "markdown",
   "metadata": {},
   "source": [
    "We can see that this gives us information about the device. We can look deeper into the device to see what slots and objects we can work with.\n",
    "\n",
    "Some important points to notice in the objects are the 4 X.509 objects that we will want to populate with out new certificate. "
   ]
  },
  {
   "cell_type": "code",
   "execution_count": null,
   "metadata": {},
   "outputs": [],
   "source": [
    "%%bash\n",
    "pkcs11-tool --list-objects"
   ]
  },
  {
   "cell_type": "markdown",
   "metadata": {},
   "source": [
    "We can add a certificate to the"
   ]
  },
  {
   "cell_type": "code",
   "execution_count": null,
   "metadata": {},
   "outputs": [],
   "source": []
  }
 ],
 "metadata": {
  "kernelspec": {
   "display_name": "Python 3",
   "language": "python",
   "name": "python3"
  },
  "language_info": {
   "codemirror_mode": {
    "name": "ipython",
    "version": 3
   },
   "file_extension": ".py",
   "mimetype": "text/x-python",
   "name": "python",
   "nbconvert_exporter": "python",
   "pygments_lexer": "ipython3",
   "version": "3.7.3"
  }
 },
 "nbformat": 4,
 "nbformat_minor": 2
}
