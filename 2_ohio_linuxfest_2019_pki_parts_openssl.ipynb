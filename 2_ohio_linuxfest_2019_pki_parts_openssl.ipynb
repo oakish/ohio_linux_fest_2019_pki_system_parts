{
 "cells": [
  {
   "cell_type": "markdown",
   "metadata": {},
   "source": [
    "# OpenSSL"
   ]
  },
  {
   "cell_type": "markdown",
   "metadata": {},
   "source": [
    "OpenSSL [https://openssl.org]() \n",
    "\n",
    "> OpenSSL is a robust, commercial-grade, and full-featured toolkit for the Transport Layer Security (TLS) and Secure Sockets Layer (SSL) protocols. It is also a general-purpose cryptography library.\n",
    "\n",
    "Those interested in the history of OpenSSL can find an interesting blog post here [https://www.openssl.org/blog/blog/2018/12/20/20years/]()"
   ]
  },
  {
   "cell_type": "markdown",
   "metadata": {},
   "source": [
    "## Common usages"
   ]
  },
  {
   "cell_type": "markdown",
   "metadata": {},
   "source": [
    "Some common usages of openssl in the pki system are related to generating new certificate, certificate requests, manually verifying certificates, and inspecting them. These commands are generally the same in all variants of linux, however, some implementations may not have every option compiled into the package (an example would be the rehash function is not available in Red Hat). \n",
    "\n",
    "For this section we will just be looking at openssl from the client perspective, as it relates to the PKI system. \n",
    "\n",
    "Taking a look at the package.\n",
    "\n",
    "```\n",
    "# rpm version\n",
    "rpm -q openssl --info\n",
    "```"
   ]
  },
  {
   "cell_type": "code",
   "execution_count": null,
   "metadata": {},
   "outputs": [],
   "source": [
    "%%bash\n",
    "dpkg-query -s openssl "
   ]
  },
  {
   "cell_type": "markdown",
   "metadata": {},
   "source": [
    "One of the most common uses for `openssl` is inspection of X.509 certificates, which we touch briefly on it in the system certificate section to look at a certificate siganture. \n",
    "\n",
    "Lets take a look at the Let's Encrypt root certificate."
   ]
  },
  {
   "cell_type": "code",
   "execution_count": null,
   "metadata": {},
   "outputs": [],
   "source": [
    "%%bash\n",
    "openssl x509 -in /etc/ssl/certs/DST_Root_CA_X3.pem -noout -text"
   ]
  },
  {
   "cell_type": "markdown",
   "metadata": {},
   "source": [
    "For a client certificate, I am going to grab the ohiolinux.org certificate from the website."
   ]
  },
  {
   "cell_type": "code",
   "execution_count": null,
   "metadata": {},
   "outputs": [],
   "source": [
    "%%bash\n",
    "openssl s_client -4 -no_ign_eof ohiolinux.org:443 <<< \"Q\" > tmp\n",
    "# I want to show the extra data that comes back with the s_client\n",
    "echo s_client output; echo; cat tmp; echo\n",
    "# and show a cool function of openssl, used to clean up a certificate file\n",
    "openssl x509 -in tmp -out certificates/ohiolinux.crt\n",
    "echo clean cert; echo; cat certificates/ohiolinux.crt; echo\n",
    "rm -f tmp"
   ]
  },
  {
   "cell_type": "markdown",
   "metadata": {},
   "source": [
    "Now that we have a client certificate, we can start to inspect it. \n",
    "\n",
    "First we can inspect the valid dates."
   ]
  },
  {
   "cell_type": "code",
   "execution_count": null,
   "metadata": {},
   "outputs": [],
   "source": [
    "%%bash \n",
    "openssl x509 -in certificates/ohiolinux.crt -noout -startdate -enddate"
   ]
  },
  {
   "cell_type": "code",
   "execution_count": null,
   "metadata": {},
   "outputs": [],
   "source": [
    "%%bash\n",
    "# checking that it will be valid in the next second\n",
    "openssl x509 -in certificates/ohiolinux.crt -noout -checkend 1"
   ]
  },
  {
   "cell_type": "code",
   "execution_count": null,
   "metadata": {},
   "outputs": [],
   "source": [
    "%%bash\n",
    "# checkend is in seconds, bash calc to look at the cert 120 days from now $((sec * minutes * hours * days))\n",
    "openssl x509 -in certificates/ohiolinux.crt -noout -checkend $((60 * 60 * 24 * 120))"
   ]
  },
  {
   "cell_type": "markdown",
   "metadata": {},
   "source": [
    "While the certificate may be valid locally, we would have to confirm that it has not been revoked. To do this we can check the certificate for that information. "
   ]
  },
  {
   "cell_type": "code",
   "execution_count": null,
   "metadata": {},
   "outputs": [],
   "source": [
    "%%bash\n",
    "openssl x509 -in certificates/ohiolinux.crt -noout -ocsp_uri"
   ]
  },
  {
   "cell_type": "code",
   "execution_count": null,
   "metadata": {},
   "outputs": [],
   "source": [
    "%%bash\n",
    "openssl ocsp -no_nonce -noverify -issuer /etc/ssl/certs/DST_Root_CA_X3.pem -cert certificates/ohiolinux.crt -url http://ocsp.int-x3.letsencrypt.org -header Host=ocsp.in-x3.letsencrypt.org -text"
   ]
  },
  {
   "cell_type": "markdown",
   "metadata": {},
   "source": [
    "The reason we get this error is that we do not have the chain certificate. The root certificate is not the issuer. \n",
    "\n",
    "Lets grab the correct issuer, this is offered by the server if we request it."
   ]
  },
  {
   "cell_type": "code",
   "execution_count": null,
   "metadata": {},
   "outputs": [],
   "source": [
    "%%bash\n",
    "openssl s_client -4 -showcerts -no_ign_eof ohiolinux.org:443 <<< \"Q\" > tmp\n",
    "# we need to pull out the cert that is not the current cert we have\n",
    "diff --left-column tmp certificates/ohiolinux.crt | sed -e \"s/^<\\ //\" > tmp2\n",
    "echo chain_cert; echo; cat tmp2; echo\n",
    "# and clean that up\n",
    "openssl x509 -in tmp2 -out certificates/olchain.crt\n",
    "echo clean_cert; echo; cat certificates/olchain.crt; echo\n",
    "# clean up the tmp files\n",
    "rm -f tmp tmp2"
   ]
  },
  {
   "cell_type": "markdown",
   "metadata": {},
   "source": [
    "Now lets try the OCSP request again."
   ]
  },
  {
   "cell_type": "code",
   "execution_count": null,
   "metadata": {},
   "outputs": [],
   "source": [
    "%%bash\n",
    "openssl ocsp -no_nonce -noverify -issuer certificates/olchain.crt -cert certificates/ohiolinux.crt -url http://ocsp.int-x3.letsencrypt.org -header Host=ocsp.int-x3.letsencrypt.org -text"
   ]
  },
  {
   "cell_type": "markdown",
   "metadata": {},
   "source": [
    "## Some closing remarks"
   ]
  },
  {
   "cell_type": "markdown",
   "metadata": {},
   "source": [
    "In this section we looked at some very generic uses of openssl when it comes to PKI. We will be looking much more in depth to openssl when we start to talk about the construction of a certificate authority. \n",
    "\n",
    "The openssl tool has a great deal more components, but without access to some of the certificate authority structure we will not be able to effectively demostrate it. I will cover some additional concepts a bit later."
   ]
  },
  {
   "cell_type": "code",
   "execution_count": null,
   "metadata": {},
   "outputs": [],
   "source": []
  }
 ],
 "metadata": {
  "kernelspec": {
   "display_name": "Python 3",
   "language": "python",
   "name": "python3"
  },
  "language_info": {
   "codemirror_mode": {
    "name": "ipython",
    "version": 3
   },
   "file_extension": ".py",
   "mimetype": "text/x-python",
   "name": "python",
   "nbconvert_exporter": "python",
   "pygments_lexer": "ipython3",
   "version": "3.7.3"
  }
 },
 "nbformat": 4,
 "nbformat_minor": 2
}
