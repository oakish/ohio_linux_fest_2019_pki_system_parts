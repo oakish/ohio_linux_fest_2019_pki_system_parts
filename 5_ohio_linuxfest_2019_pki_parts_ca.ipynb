{
 "cells": [
  {
   "cell_type": "markdown",
   "metadata": {},
   "source": [
    "## A Root certificate"
   ]
  },
  {
   "cell_type": "markdown",
   "metadata": {},
   "source": [
    "For our practical example we are going to need some basic pieces. \n",
    "\n",
    "First we need to have a root certificate. This practical example would be a valid way to create a local \"breakglass\" account that requires a proof of possession using a yubikey or similar device. For this reason we will not be setting up a full Certificate Authority, but many of the principles are the same. \n",
    "\n",
    "_Most of the important parts of the CA, such as OCSP, would be needed to scale this up to something more then a single system._\n",
    "\n",
    "_In some steps we will be doing some specifics for the Jupyter Notebook, such as cleanup and placing files to use that could alternately be interactive. I will try and document those as we go along._\n",
    "\n",
    "_Just as a clarification, these examples work, but they are not necessarily the most efficient. Many of the steps may be able to be rolled up into a single step, configuration files may be able to be abandoned in favor of running everything on the command line, and some of the configurations may have extrenuanous flags and markers that could be weeded out._"
   ]
  },
  {
   "cell_type": "code",
   "execution_count": null,
   "metadata": {
    "scrolled": false
   },
   "outputs": [],
   "source": [
    "%%bash\n",
    "# make sure we have a location for our work, this will will be in the git ignore file\n",
    "if ! [ -d certificates ]; then mkdir certificates; fi\n",
    "# make a simple passphrase file for the root CA, this is for later to bypass the interactive part\n",
    "# (that way it will work in the Notebook) \n",
    "echo secret > certificates/passphrase"
   ]
  },
  {
   "cell_type": "markdown",
   "metadata": {},
   "source": [
    "We will start with generating a key. \n",
    "\n",
    "_The passphase used is not good, strong passphrases should be used, additionally while we are using a file to set the passphrase on the key, better security should be used in protecting that or destroy it. You could also just use the interactive method by leaving out the `-passout` flag_\n",
    "\n",
    "__This is the private part of the certificate pair and this needs to be kept under full paranoid \"don't let anyone get it\" security. If the key and the passphrase were to be compromised, that would be really bad.__"
   ]
  },
  {
   "cell_type": "code",
   "execution_count": null,
   "metadata": {
    "scrolled": false
   },
   "outputs": [],
   "source": [
    "%%bash\n",
    "openssl genrsa -aes256 -passout file:certificates/passphrase -out certificates/ca-root.key 2048 "
   ]
  },
  {
   "cell_type": "markdown",
   "metadata": {},
   "source": [
    "Next we are going to set up an openssl configuration file for the purpose of creating the certificates.\n",
    "\n",
    "The `req` section sets up the defaults we are using for our certificates. In this section we are turning off prompts, so if we make a mistake and miss an important value, we may end up with a failed certificate.\n",
    "\n",
    "The `req_distinguished_name` section sets up the certificate properties, if this section was not dictated it would prompt for an interactive answering of the properties. Note that many other values could be added to this section, the ones shown are a minimal set.\n",
    "\n",
    "The `x509_extensions` section sets up the use parameters of the certificates, for our simple root certificate we will want the `CA:true` and be able to sign other keys with `keyCertSign` and sign relative certificate requests with the `cRLSign` options.\n",
    "\n",
    "_All of these elements could potentially be added on the command line to generate the certificate, but using a configuration file we can set up all the attributes and locations of files in a more readable way._"
   ]
  },
  {
   "cell_type": "code",
   "execution_count": null,
   "metadata": {
    "scrolled": false
   },
   "outputs": [],
   "source": [
    "%%bash\n",
    "cat > certificates/ca-root.cnf << END_OF_FILE\n",
    "[ req ]\n",
    "default_bits = 2048\n",
    "default_md = sha256\n",
    "default_keyfile = ca-root.key\n",
    "distinguished_name = req_distinguished_name\n",
    "#attributes = req_attributes\n",
    "x509_extensions = v3_ca \n",
    "string_mask = utf8only\n",
    "prompt = no\n",
    "\n",
    "[ req_distinguished_name ]\n",
    "C = US\n",
    "ST = Ohio\n",
    "L = Cleveland\n",
    "O = Example\n",
    "OU = LinuxFest\n",
    "CN = example.com\n",
    "emailAddress = lf@example.com\n",
    "\n",
    "[ v3_ca ]\n",
    "subjectKeyIdentifier=hash\n",
    "basicConstraints = critical, CA:true\n",
    "keyUsage = keyCertSign, cRLSign\n",
    "END_OF_FILE"
   ]
  },
  {
   "cell_type": "markdown",
   "metadata": {},
   "source": [
    "Now we can generate our root certificate. Once again we use the passphrase, this time passing it in to access the key, instead of the interactive prompt. \n",
    "\n",
    "__We are setting the days to 1, meaning this certificate will expire tomorrow. Just a safety measure, this could potentially be 20 years__"
   ]
  },
  {
   "cell_type": "code",
   "execution_count": null,
   "metadata": {
    "scrolled": false
   },
   "outputs": [],
   "source": [
    "%%bash\n",
    "openssl req -x509 -new -nodes -key certificates/ca-root.key -sha256 -days 1 -passin file:certificates/passphrase -out certificates/ca-root.pem -config certificates/ca-root.cnf"
   ]
  },
  {
   "cell_type": "markdown",
   "metadata": {},
   "source": [
    "Now we can take a look at the certificates directory to see our certificates have been created."
   ]
  },
  {
   "cell_type": "code",
   "execution_count": null,
   "metadata": {
    "scrolled": false
   },
   "outputs": [],
   "source": [
    "%%bash \n",
    "ls -l certificates"
   ]
  },
  {
   "cell_type": "markdown",
   "metadata": {},
   "source": [
    "Inspecting the certificate generated, again passing in the passphrase from file instead of interactive prompting."
   ]
  },
  {
   "cell_type": "code",
   "execution_count": null,
   "metadata": {
    "scrolled": false
   },
   "outputs": [],
   "source": [
    "%%bash\n",
    "openssl x509 -passin file:certificates/passphrase -in certificates/ca-root.pem -noout -text"
   ]
  },
  {
   "cell_type": "markdown",
   "metadata": {},
   "source": [
    "## Basic server certificate"
   ]
  },
  {
   "cell_type": "markdown",
   "metadata": {},
   "source": [
    "In this section we will build a general server ssl certificate, use it to run a session of this notebook remotely over TTPS.\n",
    "\n",
    "First, set up so we dont have an interactive prompt."
   ]
  },
  {
   "cell_type": "code",
   "execution_count": null,
   "metadata": {
    "scrolled": false
   },
   "outputs": [],
   "source": [
    "%%bash\n",
    "echo secret > certificates/server.passphrase"
   ]
  },
  {
   "cell_type": "markdown",
   "metadata": {},
   "source": [
    "Then generate a key."
   ]
  },
  {
   "cell_type": "code",
   "execution_count": null,
   "metadata": {
    "scrolled": false
   },
   "outputs": [],
   "source": [
    "%%bash\n",
    "openssl genrsa -passout file:certificates/server.passphrase -out certificates/server.key 2048"
   ]
  },
  {
   "cell_type": "markdown",
   "metadata": {},
   "source": [
    "Create a config file for the certificate request."
   ]
  },
  {
   "cell_type": "code",
   "execution_count": null,
   "metadata": {
    "scrolled": false
   },
   "outputs": [],
   "source": [
    "%%bash\n",
    "cat > certificates/server.cnf << END_OF_FILE\n",
    "[ req ]\n",
    "default_bits = 2048\n",
    "default_md = sha256\n",
    "default_keyfile = privkey.pem\n",
    "distinguished_name = req_distinguished_name\n",
    "#attributes = req_attributes\n",
    "x509_extensions = v3_x509\n",
    "string_mask = utf8only\n",
    "prompt = no\n",
    "\n",
    "[ req_distinguished_name ]\n",
    "countryName = \"US\"\n",
    "stateOrProvinceName = \"OH\"\n",
    "localityName = \"Columbus\"\n",
    "organizationName = \"Ohio Linux Fest 2019\"\n",
    "organizationalUnitName = \"Linu PKI System Parts\"\n",
    "commonName = \"debian-buster-server.example.com\"\n",
    "\n",
    "[ v3_x509 ]\n",
    "basicConstraints = critical, CA:FALSE\n",
    "keyUsage = critical,digitalSignature,keyEncipherment\n",
    "extendedKeyUsage = serverAuth,clientAuth\n",
    "subjectKeyIdentifier = hash\n",
    "END_OF_FILE"
   ]
  },
  {
   "cell_type": "markdown",
   "metadata": {},
   "source": [
    "Generate a generic certificate request."
   ]
  },
  {
   "cell_type": "code",
   "execution_count": null,
   "metadata": {
    "scrolled": false
   },
   "outputs": [],
   "source": [
    "%%bash\n",
    "openssl req -passin file:certificates/server.passphrase -sha256 -new -key certificates/server.key -nodes -out certificates/server.csr -config certificates/server.cnf"
   ]
  },
  {
   "cell_type": "markdown",
   "metadata": {},
   "source": [
    "In order to use the root certificate to generate the server certificate."
   ]
  },
  {
   "cell_type": "code",
   "execution_count": null,
   "metadata": {
    "scrolled": false
   },
   "outputs": [],
   "source": [
    "%%bash\n",
    "cat > certificates/ca-server.cnf << END_OF_FILE\n",
    "[ ca ]\n",
    "default_ca = my_ca\n",
    "\n",
    "[ my_ca ]\n",
    "serial = ./certificates/serial\n",
    "database = ./certificates/index.txt\n",
    "new_certs_dir = ./certificates\n",
    "certificate = ./certificates/ca-root.pem\n",
    "private_key = ./certificates/ca-root.key\n",
    "default_md = sha256\n",
    "default_days = 1\n",
    "x509_extensions = v3_x509\n",
    "policy = server_dn \n",
    "\n",
    "[ server_dn ]\n",
    "countryName = supplied\n",
    "stateOrProvinceName = supplied\n",
    "localityName = supplied\n",
    "organizationName = supplied\n",
    "organizationalUnitName = supplied\n",
    "commonName = supplied\n",
    "\n",
    "[ v3_x509 ]\n",
    "basicConstraints = critical, CA:FALSE\n",
    "keyUsage = critical,digitalSignature,keyEncipherment\n",
    "extendedKeyUsage = serverAuth,clientAuth\n",
    "subjectKeyIdentifier = hash\n",
    "END_OF_FILE"
   ]
  },
  {
   "cell_type": "markdown",
   "metadata": {},
   "source": [
    "To create the certificate we need to make sure we have an indexing and serial number, in our case we are just going to make a random serial number."
   ]
  },
  {
   "cell_type": "code",
   "execution_count": null,
   "metadata": {
    "scrolled": false
   },
   "outputs": [],
   "source": [
    "%%bash\n",
    "if ! [ -f certificates/index.txt ]; then touch certificates/index.txt; fi\n",
    "if ! [ -f certificates/serial ]; then touch certificates/serial; fi\n",
    "echo $(( $RANDOM % 100 )) > certificates/serial"
   ]
  },
  {
   "cell_type": "markdown",
   "metadata": {},
   "source": [
    "Now we can generate the certificate from the request."
   ]
  },
  {
   "cell_type": "code",
   "execution_count": null,
   "metadata": {
    "scrolled": false
   },
   "outputs": [],
   "source": [
    "%%bash\n",
    "openssl ca -batch -passin file:certificates/passphrase -config certificates/ca-server.cnf -out certificates/server.crt -infiles certificates/server.csr"
   ]
  },
  {
   "cell_type": "markdown",
   "metadata": {},
   "source": [
    "Looking at the certificate."
   ]
  },
  {
   "cell_type": "code",
   "execution_count": null,
   "metadata": {
    "scrolled": false
   },
   "outputs": [],
   "source": [
    "%%bash\n",
    "openssl x509 -in certificates/server.crt -noout -text"
   ]
  },
  {
   "cell_type": "markdown",
   "metadata": {},
   "source": [
    "Sets set our notebook to use SSL. To start we need to grab the root public certificate. \n",
    "\n",
    "Navigate to http://debian-buster-server.example.com:8888/edit/certificates/ca-root.pem and select Edit > Download. Save file. \n",
    "\n",
    "Since this is outside of the notebook, stop the current notebook.\n",
    "\n",
    "Edit and copy over the second_jupyter_notebook_config.py to `~/.jupyter/jupyter_notebook_config.py`\n",
    "\n",
    "Start the notebook. and redirect the browser now to link on token.\n",
    "\n",
    "__Note: Because we don't have OCSP, the browser may not totally accept the root certificate, however, we should be able to get the certificate to be accepted by Firefox with standard build. On the redirect we will get the error for unknown certificate, to fix that load the ca-root.pem file into the browser certificate roots.__"
   ]
  },
  {
   "cell_type": "markdown",
   "metadata": {},
   "source": [
    "## Identity Certificate "
   ]
  },
  {
   "cell_type": "markdown",
   "metadata": {},
   "source": [
    "With a root certificate that is able to sign, we could potentially make any number of relative certificates associated to it. While creating a simple web SSL certificate would be something we could do, I have decided we will delve a little into making an identity certificate for authentication that we can use with a Yubikey. \n",
    "\n",
    "To start out we will make a passphrase for our new key, same as the root certificate this is so we don't get interactive prompts. "
   ]
  },
  {
   "cell_type": "code",
   "execution_count": null,
   "metadata": {
    "scrolled": false
   },
   "outputs": [],
   "source": [
    "%%bash\n",
    "echo secret > certificates/identity.passphrase"
   ]
  },
  {
   "cell_type": "markdown",
   "metadata": {},
   "source": [
    "We will generate a private key for our new identity."
   ]
  },
  {
   "cell_type": "code",
   "execution_count": null,
   "metadata": {
    "scrolled": false
   },
   "outputs": [],
   "source": [
    "%%bash\n",
    "openssl genrsa -passout file:certificates/identity.passphrase -out certificates/rando.key 2048"
   ]
  },
  {
   "cell_type": "markdown",
   "metadata": {},
   "source": [
    "For the new identity certificate we will need to make a certificate request to the root certificate, for that we will make a new configuration.\n",
    "\n",
    "In the `req_distinguished_name` section we now set the properties of the user identity. \n",
    "\n",
    "In the `v3_logon_cert` section (which is the `x509_extensions`) we are making it non-authoritative and giving it attributes for usage. The `clientAuth` and `msSmartcardLogin` are elements needed to use the PIV Yubikey mechanism (emulate smartcard).\n",
    "\n",
    "_In this case we supply a request with distinguished name, different from the server example that was enforced by the ca configuration._"
   ]
  },
  {
   "cell_type": "code",
   "execution_count": null,
   "metadata": {
    "scrolled": false
   },
   "outputs": [],
   "source": [
    "%%bash\n",
    "cat > certificates/identity.cnf << END_OF_FILE\n",
    "[ req ]\n",
    "default_bits = 2048\n",
    "default_md = sha256\n",
    "default_keyfile = privkey.pem\n",
    "distinguished_name = req_distinguished_name\n",
    "#attributes = req_attributes\n",
    "x509_extensions = v3_logon_cert\n",
    "string_mask = utf8only\n",
    "prompt = no\n",
    "\n",
    "[ req_distinguished_name ]\n",
    "C = US\n",
    "O = Example\n",
    "OU = LinuxFest\n",
    "OU = People\n",
    "CN = Random Person\n",
    "UID = rando\n",
    "\n",
    "[ v3_logon_cert ]\n",
    "basicConstraints = critical, CA:FALSE\n",
    "keyUsage = critical, nonRepudiation, digitalSignature, keyEncipherment\n",
    "extendedKeyUsage = critical, clientAuth, emailProtection, msSmartcardLogin\n",
    "subjectKeyIdentifier = hash\n",
    "authorityKeyIdentifier = keyid,issuer\n",
    "END_OF_FILE\n"
   ]
  },
  {
   "cell_type": "markdown",
   "metadata": {},
   "source": [
    "Now we can generate a certificate request. "
   ]
  },
  {
   "cell_type": "code",
   "execution_count": null,
   "metadata": {
    "scrolled": false
   },
   "outputs": [],
   "source": [
    "%%bash\n",
    "openssl req -passin file:certificates/identity.passphrase -sha256 -new -config certificates/identity.cnf -key certificates/rando.key -nodes -out certificates/rando.csr"
   ]
  },
  {
   "cell_type": "markdown",
   "metadata": {},
   "source": [
    "In order to use the root certificate to generate the identity certificate, we need another configuration file (again, this could likely all be done on the command line)"
   ]
  },
  {
   "cell_type": "code",
   "execution_count": null,
   "metadata": {
    "scrolled": false
   },
   "outputs": [],
   "source": [
    "%%bash\n",
    "cat > certificates/ca-identity.cnf << END_OF_FILE\n",
    "[ ca ]\n",
    "default_ca = my_ca\n",
    "\n",
    "[ my_ca ]\n",
    "serial = ./certificates/serial\n",
    "database = ./certificates/index.txt\n",
    "new_certs_dir = ./certificates\n",
    "certificate = ./certificates/ca-root.pem\n",
    "private_key = ./certificates/ca-root.key\n",
    "default_md = sha256\n",
    "default_days = 1\n",
    "x509_extensions = v3_x509\n",
    "policy = my_policy\n",
    "\n",
    "[ my_policy ]\n",
    "C = supplied\n",
    "O = supplied\n",
    "OU = supplied\n",
    "CN = supplied\n",
    "OU = supplied\n",
    "UID = supplied\n",
    "\n",
    "[ v3_x509 ]\n",
    "basicConstraints = critical, CA:FALSE\n",
    "keyUsage = critical, nonRepudiation, digitalSignature, keyEncipherment\n",
    "extendedKeyUsage = critical, clientAuth, emailProtection, msSmartcardLogin\n",
    "subjectKeyIdentifier = hash\n",
    "authorityKeyIdentifier = keyid,issuer\n",
    "END_OF_FILE"
   ]
  },
  {
   "cell_type": "markdown",
   "metadata": {},
   "source": [
    "Now we can generate the certificate from the request. \n",
    "\n",
    "Note that we will use the same index and serial number files as the server certificate, this could be seperated. "
   ]
  },
  {
   "cell_type": "code",
   "execution_count": null,
   "metadata": {
    "scrolled": false
   },
   "outputs": [],
   "source": [
    "%%bash\n",
    "openssl ca -batch -passin file:certificates/passphrase -config certificates/ca-identity.cnf -out certificates/rando.crt -infiles certificates/rando.csr"
   ]
  },
  {
   "cell_type": "markdown",
   "metadata": {},
   "source": [
    "Looking at the certificate."
   ]
  },
  {
   "cell_type": "code",
   "execution_count": null,
   "metadata": {
    "scrolled": false
   },
   "outputs": [],
   "source": [
    "%%bash\n",
    "openssl x509 -in certificates/rando.crt -noout -text"
   ]
  },
  {
   "cell_type": "code",
   "execution_count": null,
   "metadata": {
    "scrolled": false
   },
   "outputs": [],
   "source": []
  }
 ],
 "metadata": {
  "kernelspec": {
   "display_name": "Python 3",
   "language": "python",
   "name": "python3"
  },
  "language_info": {
   "codemirror_mode": {
    "name": "ipython",
    "version": 3
   },
   "file_extension": ".py",
   "mimetype": "text/x-python",
   "name": "python",
   "nbconvert_exporter": "python",
   "pygments_lexer": "ipython3",
   "version": "3.7.3"
  }
 },
 "nbformat": 4,
 "nbformat_minor": 2
}
